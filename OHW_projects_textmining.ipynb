{
 "cells": [
  {
   "cell_type": "markdown",
   "id": "e60f8f38",
   "metadata": {},
   "source": [
    "## Text Mining of OHW Project Readme's"
   ]
  },
  {
   "cell_type": "markdown",
   "id": "0960c7e3",
   "metadata": {},
   "source": [
    "In this notebook we explore the patterns in the text of the OHW Projects READMEs. We will extract topics and low dimensional representations so that we can create a scatter plot and cluster the projects."
   ]
  },
  {
   "cell_type": "markdown",
   "id": "c7821392",
   "metadata": {},
   "source": [
    "We use data scraped from the OHW github repos, which is stored in a `.json` file."
   ]
  },
  {
   "cell_type": "code",
   "execution_count": 99,
   "id": "f8427b79-5196-422a-a0d3-a97f342718f0",
   "metadata": {},
   "outputs": [],
   "source": [
    "import pandas as pd"
   ]
  },
  {
   "cell_type": "code",
   "execution_count": 100,
   "id": "8e6b76f7-6ede-437f-b91a-6b85dd63b21a",
   "metadata": {},
   "outputs": [],
   "source": [
    "import numpy as np"
   ]
  },
  {
   "cell_type": "code",
   "execution_count": 101,
   "id": "b8e3ddfd-457c-4a76-81f4-535892ad96ce",
   "metadata": {},
   "outputs": [],
   "source": [
    "import matplotlib.pyplot as plt"
   ]
  },
  {
   "cell_type": "code",
   "execution_count": 102,
   "id": "1d89371c-3ff4-4d63-abd6-4aa968f7d83c",
   "metadata": {},
   "outputs": [],
   "source": [
    "# df = pd.read_csv(\"project_list_final.csv\")"
   ]
  },
  {
   "cell_type": "code",
   "execution_count": 103,
   "id": "f8e9624a-6c0b-4bc8-8a43-4b830f7d1cd0",
   "metadata": {},
   "outputs": [],
   "source": [
    "# setting up text mining packages"
   ]
  },
  {
   "cell_type": "code",
   "execution_count": 54,
   "id": "0efa7213-e04a-4019-8ce1-7c4a6f04641f",
   "metadata": {},
   "outputs": [
    {
     "name": "stdout",
     "output_type": "stream",
     "text": [
      "Requirement already satisfied: nltk in /home/.pixi/envs/default/lib/python3.12/site-packages (3.9.1)\n",
      "Requirement already satisfied: click in /home/.pixi/envs/default/lib/python3.12/site-packages (from nltk) (8.1.7)\n",
      "Requirement already satisfied: joblib in /home/.pixi/envs/default/lib/python3.12/site-packages (from nltk) (1.4.2)\n",
      "Requirement already satisfied: regex>=2021.8.3 in /home/.pixi/envs/default/lib/python3.12/site-packages (from nltk) (2024.7.24)\n",
      "Requirement already satisfied: tqdm in /home/.pixi/envs/default/lib/python3.12/site-packages (from nltk) (4.66.4)\n"
     ]
    }
   ],
   "source": [
    "!pip install nltk"
   ]
  },
  {
   "cell_type": "code",
   "execution_count": 104,
   "id": "45444c52-c186-47c8-accd-c6e55cacab7c",
   "metadata": {},
   "outputs": [],
   "source": [
    "import nltk"
   ]
  },
  {
   "cell_type": "code",
   "execution_count": 105,
   "id": "206dfbb3-27a7-4f7b-8ef3-309e7b5430d9",
   "metadata": {},
   "outputs": [
    {
     "name": "stderr",
     "output_type": "stream",
     "text": [
      "[nltk_data] Downloading package punkt to /home/jovyan/nltk_data...\n",
      "[nltk_data]   Package punkt is already up-to-date!\n"
     ]
    },
    {
     "data": {
      "text/plain": [
       "True"
      ]
     },
     "execution_count": 105,
     "metadata": {},
     "output_type": "execute_result"
    }
   ],
   "source": [
    "nltk.download(\"punkt\")"
   ]
  },
  {
   "cell_type": "code",
   "execution_count": 106,
   "id": "c730c47b-8c99-4dca-aaa4-999770a6097e",
   "metadata": {},
   "outputs": [],
   "source": [
    "from nltk.tokenize import sent_tokenize, word_tokenize"
   ]
  },
  {
   "cell_type": "code",
   "execution_count": 107,
   "id": "f1959932-eb67-4729-88dc-19c3cc6a40b1",
   "metadata": {},
   "outputs": [],
   "source": [
    "from nltk.tokenize import RegexpTokenizer\n",
    "tokenizer = RegexpTokenizer(r'\\w+')"
   ]
  },
  {
   "cell_type": "code",
   "execution_count": 108,
   "id": "3de859c0-a805-4d72-b705-a1d0846c64de",
   "metadata": {},
   "outputs": [],
   "source": [
    "from nltk.corpus import stopwords\n",
    "stopwords = stopwords.words('english')"
   ]
  },
  {
   "cell_type": "code",
   "execution_count": 110,
   "id": "05a2ab7f-df44-46a0-ab41-0264dbf19b14",
   "metadata": {},
   "outputs": [],
   "source": [
    "import json\n",
    "\n",
    "# check what is in the json\n",
    "# from pprint import pprint\n",
    "\n",
    "# with open('readmes_proj_ohw.json') as json_data:\n",
    "#    d = json.load(json_data)\n",
    "#    json_data.close()\n",
    "#    #pprint(d)"
   ]
  },
  {
   "cell_type": "code",
   "execution_count": 111,
   "id": "24f3866b-cb7a-4583-a6d7-ba31af075d4b",
   "metadata": {},
   "outputs": [],
   "source": [
    "#data = json.load(\"readmes_proj_ohw.json\")"
   ]
  },
  {
   "cell_type": "code",
   "execution_count": 112,
   "id": "cc7e658a-636d-44e8-9784-24e555b4908f",
   "metadata": {},
   "outputs": [],
   "source": [
    "df = pd.read_json(\"readmes_proj_ohw.json\", typ='series')"
   ]
  },
  {
   "cell_type": "code",
   "execution_count": 113,
   "id": "0725815a-888b-4614-b9c8-3e785bfdf978",
   "metadata": {},
   "outputs": [],
   "source": [
    "proj_names = [(name.strip('https://github.com/oceanhackweek/')) for name in list(df.index)]"
   ]
  },
  {
   "cell_type": "code",
   "execution_count": null,
   "id": "49851f2e-e64f-4fc4-adc2-9bab474ffde2",
   "metadata": {},
   "outputs": [],
   "source": []
  },
  {
   "cell_type": "code",
   "execution_count": 114,
   "id": "11b32109-0f51-4f73-a1bd-41dfd9cb2dcf",
   "metadata": {},
   "outputs": [
    {
     "name": "stderr",
     "output_type": "stream",
     "text": [
      "/tmp/ipykernel_845/2680116315.py:1: FutureWarning:\n",
      "\n",
      "Series.__getitem__ treating keys as positions is deprecated. In a future version, integer keys will always be treated as labels (consistent with DataFrame behavior). To access a value by position, use `ser.iloc[pos]`\n",
      "\n"
     ]
    },
    {
     "data": {
      "text/plain": [
       "'## ohw21-proj-model-subsampling\\n## OceanHackWeek21 project to subsample high-resolution model output as if by gliders, ships, or other in situ platforms\\n\\nThe goal of this project is to create a Python package that takes an input trajectory (e.g., the path of an ocean glider), subsamples output from a high-resolution ocean simulation along that trajectory, and returns a set of subsampled variables (e.g., standard physical variables temperature, salinity, velocity; derived physical quantities such as steric height; biogeochemical quantities if available).  We envision this package having two potential uses: 1) designing *in situ* sampling strategies, and 2) interpreting *in situ* data in the context of a highly resolved oceanographic model.\\n\\nTasks:\\n1. Load model data from a specific region (e.g., ROMS output in the California Current from CenOOS; MITgcm regional llc4320 data)\\n2. Create simulated trajectory file\\n3. Obtain real trajectory file\\n4. Interpolate model data to the trajectories\\n5. Compare interpolated data to the full model output via useful visualizations and/or statistics\\n'"
      ]
     },
     "execution_count": 114,
     "metadata": {},
     "output_type": "execute_result"
    }
   ],
   "source": [
    "df[0]"
   ]
  },
  {
   "cell_type": "code",
   "execution_count": 115,
   "id": "9043b04f-45ec-427c-98d3-d70a87598037",
   "metadata": {},
   "outputs": [],
   "source": [
    "# function to preprocess the readmes\n",
    "\n",
    "from nltk.tokenize import RegexpTokenizer\n",
    "from nltk.corpus import stopwords\n",
    "\n",
    "def readme_preprocess(readme):\n",
    "    \n",
    "    # tokenize\n",
    "    tokens = tokenizer.tokenize(readme)\n",
    "    \n",
    "    # make lower case\n",
    "    tokens = [tok.lower() for tok in tokens]\n",
    "    \n",
    "    # stem\n",
    "    lancaster = nltk.LancasterStemmer()\n",
    "    tokens = [lancaster.stem(tok) for tok in tokens]\n",
    "    \n",
    "    # remove stop words\n",
    "    stop_words = stopwords.words('english')\n",
    "    tokens = [tok for tok in tokens if tok not in stop_words]\n",
    "    \n",
    "    return(tokens)"
   ]
  },
  {
   "cell_type": "code",
   "execution_count": 116,
   "id": "e48bddb8-a1e2-40f4-97b6-89ea4d89a3d6",
   "metadata": {},
   "outputs": [],
   "source": [
    "# preprocess each readme\n",
    "readmes = [readme_preprocess(readme) for readme in list(df)]"
   ]
  },
  {
   "cell_type": "code",
   "execution_count": 117,
   "id": "6bbdb369-0d70-42c7-8c77-1dfe18df1800",
   "metadata": {},
   "outputs": [],
   "source": [
    "# converting to string\n",
    "final_readmes = []\n",
    "for readme in readmes:\n",
    "    for word in readme:\n",
    "        n = readme.index(word)\n",
    "        if n == 0:\n",
    "            string = readme[n]\n",
    "        else:\n",
    "            string = string + \" \" + readme[n]\n",
    "    final_readmes.append(string)"
   ]
  },
  {
   "cell_type": "markdown",
   "id": "ff524ee2",
   "metadata": {},
   "source": [
    "## Topic Modeling with Nonnegative Matrix Factorization"
   ]
  },
  {
   "cell_type": "markdown",
   "id": "59295edc",
   "metadata": {},
   "source": [
    "We will try a simple method to extract topics from `scikit-learn` library."
   ]
  },
  {
   "cell_type": "markdown",
   "id": "d9dc8925",
   "metadata": {},
   "source": [
    "The approach involves creat a Term Frequency - Inverse Document Frequency matrix, which is factorized into topics and weights."
   ]
  },
  {
   "cell_type": "code",
   "execution_count": 123,
   "id": "a3beecba-8172-431a-9c28-b996a5087798",
   "metadata": {},
   "outputs": [],
   "source": [
    "from sklearn.feature_extraction.text import TfidfVectorizer"
   ]
  },
  {
   "cell_type": "code",
   "execution_count": 124,
   "id": "2ee71812-9733-4e96-a6bb-5c70e54b3cc7",
   "metadata": {},
   "outputs": [],
   "source": [
    "tfidf_vectorizer = TfidfVectorizer(min_df=2, max_df=0.95)"
   ]
  },
  {
   "cell_type": "code",
   "execution_count": 125,
   "id": "0fec8f68-26ae-4cce-8137-4f2bc2cb0015",
   "metadata": {},
   "outputs": [],
   "source": [
    "\n",
    "tfidf_matrix = tfidf_vectorizer.fit_transform(final_readmes)"
   ]
  },
  {
   "cell_type": "code",
   "execution_count": 126,
   "id": "4b998368-e676-444f-902d-3c4fd56d9ba0",
   "metadata": {},
   "outputs": [
    {
     "data": {
      "text/plain": [
       "(50, 675)"
      ]
     },
     "execution_count": 126,
     "metadata": {},
     "output_type": "execute_result"
    }
   ],
   "source": [
    "tfidf_matrix.shape"
   ]
  },
  {
   "cell_type": "code",
   "execution_count": 127,
   "id": "03ec4e06-64ad-4eb8-88a4-4c87de0efb00",
   "metadata": {},
   "outputs": [],
   "source": [
    "n_topics = 10\n",
    "\n",
    "from sklearn.decomposition import NMF\n",
    "model = NMF(init=\"nndsvd\", n_components=n_topics, random_state=1)\n",
    "W_matrix = model.fit_transform(tfidf_matrix)\n",
    "H_matrix = model.components_"
   ]
  },
  {
   "cell_type": "code",
   "execution_count": 128,
   "id": "e6a3be8b-1ed9-4905-900f-1a8e0e70663c",
   "metadata": {},
   "outputs": [
    {
     "name": "stdout",
     "output_type": "stream",
     "text": [
      "Topic 0: shar, ad, structure, particip, dataset, project, link, fold, team, nee\n",
      "Topic 1: dat, process, grady, model, oc, saildron, thi, may, us, output\n",
      "Topic 2: prod, ohw22, nutry, clust, templ, process, org, ohw, habit, impact\n",
      "Topic 3: https, com, github, www, 14, detect, io, spat, copernic, atl\n",
      "Topic 4: deep, im, satellit, cur, cnn, method, us, estim, lstm, predict\n",
      "Topic 5: imo, dat, moor, plot, websit, ap, s3, amazonaw, prefix, southeast\n",
      "Topic 6: acoust, pac, pass, dataset, som, imo, avail, serv, dat, link\n",
      "Topic 7: de, los, ohw22, prod, en, las, ind, del, github, discuss\n",
      "Topic 8: point, brazil, coast, sou, sim, transect, sum, reg, model, dispers\n",
      "Topic 9: gcm, 2021, oceanhackweek, filt, environ, pangeo, readthedoc, latest, ohw, yaml\n"
     ]
    }
   ],
   "source": [
    "# Print topics and keywords\n",
    "tfidf_feature_names = tfidf_vectorizer.get_feature_names_out()\n",
    "for topic_index in range( H_matrix.shape[0] ):\n",
    "    top_indices = np.argsort( H_matrix[topic_index,:] )[::-1][0:10]  ##show top 10 words associated with each topic\n",
    "    term_ranking = [tfidf_feature_names[i] for i in top_indices]\n",
    "    print (\"Topic %d: %s\" % ( topic_index, \", \".join( term_ranking ) ))"
   ]
  },
  {
   "cell_type": "markdown",
   "id": "74d644bd",
   "metadata": {},
   "source": [
    "### Nonlinear Dimensionality Reduction with T-SNE"
   ]
  },
  {
   "cell_type": "markdown",
   "id": "89d5cefc",
   "metadata": {},
   "source": [
    "Next we will reduce the dimension from 10 (topics) to 2D so we can plot in a scatter plot."
   ]
  },
  {
   "cell_type": "code",
   "execution_count": 129,
   "id": "2419c9cc-bf3f-4231-81df-1530ef8a50bd",
   "metadata": {},
   "outputs": [],
   "source": [
    "from sklearn.manifold import TSNE"
   ]
  },
  {
   "cell_type": "code",
   "execution_count": 130,
   "id": "57329b73-b1ee-44cf-b5c7-9018f259daf1",
   "metadata": {},
   "outputs": [
    {
     "data": {
      "text/plain": [
       "(50, 2)"
      ]
     },
     "execution_count": 130,
     "metadata": {},
     "output_type": "execute_result"
    }
   ],
   "source": [
    "W_embedded = TSNE(n_components=2, learning_rate='auto',\n",
    "                  init='random', perplexity=3).fit_transform(W_matrix)\n",
    "W_embedded.shape"
   ]
  },
  {
   "cell_type": "code",
   "execution_count": 131,
   "id": "c903af7e-aa88-4554-8905-961ea1c6dcbd",
   "metadata": {},
   "outputs": [
    {
     "data": {
      "image/png": "[encoded data removed]",
      "text/plain": [
       "<Figure size 640x480 with 1 Axes>"
      ]
     },
     "metadata": {},
     "output_type": "display_data"
    }
   ],
   "source": [
    "fig, ax = plt.subplots()\n",
    "ax.plot(W_embedded[:,0], W_embedded[:,1], \"bo\")\n",
    "for i, txt in enumerate(proj_names):\n",
    "    ax.annotate(txt, (W_embedded[i,0], W_embedded[i,1]))"
   ]
  },
  {
   "cell_type": "markdown",
   "id": "6f4e0f07",
   "metadata": {},
   "source": [
    "## Plotly Visualization"
   ]
  },
  {
   "cell_type": "markdown",
   "id": "c006b795",
   "metadata": {},
   "source": [
    "This is clearly not readable! Let's use Plotly to visualize the labels better"
   ]
  },
  {
   "cell_type": "code",
   "execution_count": 132,
   "id": "174644bb-fc48-457f-bfe1-e25cc2169ded",
   "metadata": {},
   "outputs": [
    {
     "name": "stdout",
     "output_type": "stream",
     "text": [
      "Requirement already satisfied: plotly in /home/.pixi/envs/default/lib/python3.12/site-packages (5.24.0)\n",
      "Requirement already satisfied: tenacity>=6.2.0 in /home/.pixi/envs/default/lib/python3.12/site-packages (from plotly) (9.0.0)\n",
      "Requirement already satisfied: packaging in /home/.pixi/envs/default/lib/python3.12/site-packages (from plotly) (24.1)\n",
      "Note: you may need to restart the kernel to use updated packages.\n"
     ]
    }
   ],
   "source": [
    "pip install plotly"
   ]
  },
  {
   "cell_type": "code",
   "execution_count": 133,
   "id": "3b7a66ed-6784-4e38-85c9-a54f382e32e7",
   "metadata": {},
   "outputs": [],
   "source": [
    "# organize in a dataframe\n",
    "d = {'x': W_embedded[:,0], 'y': W_embedded[:,1], 'proj_name': proj_names}\n",
    "df_2D = pd.DataFrame(data=d)"
   ]
  },
  {
   "cell_type": "code",
   "execution_count": null,
   "id": "b92659b8-1e2a-4a06-93d0-d95c2963c835",
   "metadata": {},
   "outputs": [],
   "source": []
  },
  {
   "cell_type": "code",
   "execution_count": 134,
   "id": "3e6bf467-e1d1-4bf1-bcab-21b9449d35f7",
   "metadata": {},
   "outputs": [],
   "source": [
    "import plotly.io as pio\n",
    "pio.renderers.default = 'notebook'"
   ]
  },
  {
   "cell_type": "code",
   "execution_count": null,
   "id": "2c96f40a-a61b-4c9f-a6f0-d6a47dec204f",
   "metadata": {},
   "outputs": [],
   "source": []
  },
  {
   "cell_type": "code",
   "execution_count": 96,
   "id": "def8b5ba-7498-4915-a56d-1955c0edb293",
   "metadata": {},
   "outputs": [
    {
     "data": {
      "application/vnd.plotly.v1+json": {
       "config": {
        "plotlyServerURL": "https://plot.ly"
       },
       "data": [
        {
         "hovertemplate": "<b>%{hovertext}</b><br><br>x=%{x}<br>y=%{y}<extra></extra>",
         "hovertext": [
          "21-proj-model-subsampl",
          "21-proj-",
          "21-proj-coastal-radar",
          "21-proj-deep-curr",
          "21-proj-radar-q",
          "21_proj_tag_d",
          "21-proj-drone-turtl",
          "21-proj-biological-activity-driven-by-geologic-ev",
          "22-proj-front-finder",
          "22-proj-plot_this_and_",
          "22-proj-biofouled",
          "22-proj-",
          "22-proj-lagrange_",
          "22_proj_matchup_d",
          "22-proj-gcmfilter",
          "22-proj-passive-acoustics-data-query",
          "22-proj-ker",
          "22-proj_SA_ocean_d",
          "22-proj-xyz",
          "22-proj-ENSO_Pred",
          "22-proj-flow-cytometry",
          "22-proj-clusters-nutr",
          "22-proj-biodiversity-indicator",
          "22-proj-orgs-templ",
          "22-proj-Extreme_ev",
          "22-proj-arcticd",
          "22-proj-video-data-pr",
          "22-proj-oleaje-coster",
          "22_proj_mat2py",
          "23_proj_fancymoor",
          "23_proj_",
          "23_proj_SAupwell",
          "23_proj_oil",
          "23_proj_argo_ml",
          "23_proj_sea_ice_oscill",
          "23-proj-pamproj",
          "23-proj-",
          "23_proj_drone_georef",
          "23_proj_ampl",
          "yy_proj_templ",
          "24_proj_extract_cube_data_overlap_poly_",
          "24_proj_MessageMeWhenItsHot_the_MHW_Vis-Report_app_",
          "24_proj_pace_",
          "24_proj_micronekton_img_pipeline_",
          "24_proj_sdm_",
          "24_proj_upSSH_",
          "24_proj_north_atlantic_variability_",
          "24_proj_big_data_",
          "24_proj_xarray_load_by_step_",
          "24_proj_catalog_"
         ],
         "legendgroup": "",
         "marker": {
          "color": "#636efa",
          "symbol": "circle"
         },
         "mode": "markers",
         "name": "",
         "orientation": "v",
         "showlegend": false,
         "textposition": "top center",
         "type": "scatter",
         "x": [
          51.430206298828125,
          68.88026428222656,
          -1631.5782470703125,
          -73.84428405761719,
          66.27101135253906,
          99.47718048095703,
          34.3036003112793,
          52.7833137512207,
          85.22403717041016,
          -81.00881958007812,
          51.9970817565918,
          1203.6070556640625,
          -23.853918075561523,
          -89.74278259277344,
          26.174741744995117,
          1.5871793031692505,
          35.99635696411133,
          -116.94024658203125,
          -136.34507751464844,
          -62.92325973510742,
          34.35261917114258,
          74.44581604003906,
          48.859840393066406,
          67.06652069091797,
          -23.017213821411133,
          108.20790100097656,
          80.94407653808594,
          57.232120513916016,
          69.18473052978516,
          -23.81401824951172,
          -47.76332473754883,
          -102.12966918945312,
          -105.49720764160156,
          79.32203674316406,
          -55.75514221191406,
          -6.279749870300293,
          43.187522888183594,
          -72.21898651123047,
          -106.87718200683594,
          -30.901662826538086,
          93.38677978515625,
          -89.81127166748047,
          21.219209671020508,
          7.616504192352295,
          -17.628223419189453,
          -18.735679626464844,
          -28.758014678955078,
          16.880891799926758,
          -33.5340461730957,
          41.80107498168945
         ],
         "xaxis": "x",
         "y": [
          25.632543563842773,
          16.053707122802734,
          79.10701751708984,
          57.98976135253906,
          30.384931564331055,
          13.199843406677246,
          80.96377563476562,
          -52.95145797729492,
          43.3616828918457,
          -32.41968536376953,
          48.13499069213867,
          158.60401916503906,
          139.33636474609375,
          -40.31499099731445,
          85.6202621459961,
          -25.829240798950195,
          95.0589599609375,
          44.88675308227539,
          -98.49198913574219,
          61.93543243408203,
          -42.129024505615234,
          -70.08369445800781,
          151.00807189941406,
          -60.437477111816406,
          33.45246887207031,
          9.470510482788086,
          -61.074974060058594,
          149.1659698486328,
          -106.92082214355469,
          24.29090118408203,
          77.26121520996094,
          -37.34033966064453,
          38.666141510009766,
          33.93897247314453,
          82.32373046875,
          -30.913738250732422,
          -48.52412796020508,
          68.9346923828125,
          24.12110710144043,
          -117.11068725585938,
          36.3244514465332,
          -27.28589630126953,
          -33.993507385253906,
          -140.67507934570312,
          -100.1932373046875,
          -112.59254455566406,
          -93.63023376464844,
          -149.572021484375,
          -105.0492935180664,
          63.224388122558594
         ],
         "yaxis": "y"
        }
       ],
       "layout": {
        "height": 800,
        "legend": {
         "tracegroupgap": 0
        },
        "margin": {
         "t": 60
        },
        "template": {
         "data": {
          "bar": [
           {
            "error_x": {
             "color": "#2a3f5f"
            },
            "error_y": {
             "color": "#2a3f5f"
            },
            "marker": {
             "line": {
              "color": "#E5ECF6",
              "width": 0.5
             },
             "pattern": {
              "fillmode": "overlay",
              "size": 10,
              "solidity": 0.2
             }
            },
            "type": "bar"
           }
          ],
          "barpolar": [
           {
            "marker": {
             "line": {
              "color": "#E5ECF6",
              "width": 0.5
             },
             "pattern": {
              "fillmode": "overlay",
              "size": 10,
              "solidity": 0.2
             }
            },
            "type": "barpolar"
           }
          ],
          "carpet": [
           {
            "aaxis": {
             "endlinecolor": "#2a3f5f",
             "gridcolor": "white",
             "linecolor": "white",
             "minorgridcolor": "white",
             "startlinecolor": "#2a3f5f"
            },
            "baxis": {
             "endlinecolor": "#2a3f5f",
             "gridcolor": "white",
             "linecolor": "white",
             "minorgridcolor": "white",
             "startlinecolor": "#2a3f5f"
            },
            "type": "carpet"
           }
          ],
          "choropleth": [
           {
            "colorbar": {
             "outlinewidth": 0,
             "ticks": ""
            },
            "type": "choropleth"
           }
          ],
          "contour": [
           {
            "colorbar": {
             "outlinewidth": 0,
             "ticks": ""
            },
            "colorscale": [
             [
              0,
              "#0d0887"
             ],
             [
              0.1111111111111111,
              "#46039f"
             ],
             [
              0.2222222222222222,
              "#7201a8"
             ],
             [
              0.3333333333333333,
              "#9c179e"
             ],
             [
              0.4444444444444444,
              "#bd3786"
             ],
             [
              0.5555555555555556,
              "#d8576b"
             ],
             [
              0.6666666666666666,
              "#ed7953"
             ],
             [
              0.7777777777777778,
              "#fb9f3a"
             ],
             [
              0.8888888888888888,
              "#fdca26"
             ],
             [
              1,
              "#f0f921"
             ]
            ],
            "type": "contour"
           }
          ],
          "contourcarpet": [
           {
            "colorbar": {
             "outlinewidth": 0,
             "ticks": ""
            },
            "type": "contourcarpet"
           }
          ],
          "heatmap": [
           {
            "colorbar": {
             "outlinewidth": 0,
             "ticks": ""
            },
            "colorscale": [
             [
              0,
              "#0d0887"
             ],
             [
              0.1111111111111111,
              "#46039f"
             ],
             [
              0.2222222222222222,
              "#7201a8"
             ],
             [
              0.3333333333333333,
              "#9c179e"
             ],
             [
              0.4444444444444444,
              "#bd3786"
             ],
             [
              0.5555555555555556,
              "#d8576b"
             ],
             [
              0.6666666666666666,
              "#ed7953"
             ],
             [
              0.7777777777777778,
              "#fb9f3a"
             ],
             [
              0.8888888888888888,
              "#fdca26"
             ],
             [
              1,
              "#f0f921"
             ]
            ],
            "type": "heatmap"
           }
          ],
          "heatmapgl": [
           {
            "colorbar": {
             "outlinewidth": 0,
             "ticks": ""
            },
            "colorscale": [
             [
              0,
              "#0d0887"
             ],
             [
              0.1111111111111111,
              "#46039f"
             ],
             [
              0.2222222222222222,
              "#7201a8"
             ],
             [
              0.3333333333333333,
              "#9c179e"
             ],
             [
              0.4444444444444444,
              "#bd3786"
             ],
             [
              0.5555555555555556,
              "#d8576b"
             ],
             [
              0.6666666666666666,
              "#ed7953"
             ],
             [
              0.7777777777777778,
              "#fb9f3a"
             ],
             [
              0.8888888888888888,
              "#fdca26"
             ],
             [
              1,
              "#f0f921"
             ]
            ],
            "type": "heatmapgl"
           }
          ],
          "histogram": [
           {
            "marker": {
             "pattern": {
              "fillmode": "overlay",
              "size": 10,
              "solidity": 0.2
             }
            },
            "type": "histogram"
           }
          ],
          "histogram2d": [
           {
            "colorbar": {
             "outlinewidth": 0,
             "ticks": ""
            },
            "colorscale": [
             [
              0,
              "#0d0887"
             ],
             [
              0.1111111111111111,
              "#46039f"
             ],
             [
              0.2222222222222222,
              "#7201a8"
             ],
             [
              0.3333333333333333,
              "#9c179e"
             ],
             [
              0.4444444444444444,
              "#bd3786"
             ],
             [
              0.5555555555555556,
              "#d8576b"
             ],
             [
              0.6666666666666666,
              "#ed7953"
             ],
             [
              0.7777777777777778,
              "#fb9f3a"
             ],
             [
              0.8888888888888888,
              "#fdca26"
             ],
             [
              1,
              "#f0f921"
             ]
            ],
            "type": "histogram2d"
           }
          ],
          "histogram2dcontour": [
           {
            "colorbar": {
             "outlinewidth": 0,
             "ticks": ""
            },
            "colorscale": [
             [
              0,
              "#0d0887"
             ],
             [
              0.1111111111111111,
              "#46039f"
             ],
             [
              0.2222222222222222,
              "#7201a8"
             ],
             [
              0.3333333333333333,
              "#9c179e"
             ],
             [
              0.4444444444444444,
              "#bd3786"
             ],
             [
              0.5555555555555556,
              "#d8576b"
             ],
             [
              0.6666666666666666,
              "#ed7953"
             ],
             [
              0.7777777777777778,
              "#fb9f3a"
             ],
             [
              0.8888888888888888,
              "#fdca26"
             ],
             [
              1,
              "#f0f921"
             ]
            ],
            "type": "histogram2dcontour"
           }
          ],
          "mesh3d": [
           {
            "colorbar": {
             "outlinewidth": 0,
             "ticks": ""
            },
            "type": "mesh3d"
           }
          ],
          "parcoords": [
           {
            "line": {
             "colorbar": {
              "outlinewidth": 0,
              "ticks": ""
             }
            },
            "type": "parcoords"
           }
          ],
          "pie": [
           {
            "automargin": true,
            "type": "pie"
           }
          ],
          "scatter": [
           {
            "fillpattern": {
             "fillmode": "overlay",
             "size": 10,
             "solidity": 0.2
            },
            "type": "scatter"
           }
          ],
          "scatter3d": [
           {
            "line": {
             "colorbar": {
              "outlinewidth": 0,
              "ticks": ""
             }
            },
            "marker": {
             "colorbar": {
              "outlinewidth": 0,
              "ticks": ""
             }
            },
            "type": "scatter3d"
           }
          ],
          "scattercarpet": [
           {
            "marker": {
             "colorbar": {
              "outlinewidth": 0,
              "ticks": ""
             }
            },
            "type": "scattercarpet"
           }
          ],
          "scattergeo": [
           {
            "marker": {
             "colorbar": {
              "outlinewidth": 0,
              "ticks": ""
             }
            },
            "type": "scattergeo"
           }
          ],
          "scattergl": [
           {
            "marker": {
             "colorbar": {
              "outlinewidth": 0,
              "ticks": ""
             }
            },
            "type": "scattergl"
           }
          ],
          "scattermapbox": [
           {
            "marker": {
             "colorbar": {
              "outlinewidth": 0,
              "ticks": ""
             }
            },
            "type": "scattermapbox"
           }
          ],
          "scatterpolar": [
           {
            "marker": {
             "colorbar": {
              "outlinewidth": 0,
              "ticks": ""
             }
            },
            "type": "scatterpolar"
           }
          ],
          "scatterpolargl": [
           {
            "marker": {
             "colorbar": {
              "outlinewidth": 0,
              "ticks": ""
             }
            },
            "type": "scatterpolargl"
           }
          ],
          "scatterternary": [
           {
            "marker": {
             "colorbar": {
              "outlinewidth": 0,
              "ticks": ""
             }
            },
            "type": "scatterternary"
           }
          ],
          "surface": [
           {
            "colorbar": {
             "outlinewidth": 0,
             "ticks": ""
            },
            "colorscale": [
             [
              0,
              "#0d0887"
             ],
             [
              0.1111111111111111,
              "#46039f"
             ],
             [
              0.2222222222222222,
              "#7201a8"
             ],
             [
              0.3333333333333333,
              "#9c179e"
             ],
             [
              0.4444444444444444,
              "#bd3786"
             ],
             [
              0.5555555555555556,
              "#d8576b"
             ],
             [
              0.6666666666666666,
              "#ed7953"
             ],
             [
              0.7777777777777778,
              "#fb9f3a"
             ],
             [
              0.8888888888888888,
              "#fdca26"
             ],
             [
              1,
              "#f0f921"
             ]
            ],
            "type": "surface"
           }
          ],
          "table": [
           {
            "cells": {
             "fill": {
              "color": "#EBF0F8"
             },
             "line": {
              "color": "white"
             }
            },
            "header": {
             "fill": {
              "color": "#C8D4E3"
             },
             "line": {
              "color": "white"
             }
            },
            "type": "table"
           }
          ]
         },
         "layout": {
          "annotationdefaults": {
           "arrowcolor": "#2a3f5f",
           "arrowhead": 0,
           "arrowwidth": 1
          },
          "autotypenumbers": "strict",
          "coloraxis": {
           "colorbar": {
            "outlinewidth": 0,
            "ticks": ""
           }
          },
          "colorscale": {
           "diverging": [
            [
             0,
             "#8e0152"
            ],
            [
             0.1,
             "#c51b7d"
            ],
            [
             0.2,
             "#de77ae"
            ],
            [
             0.3,
             "#f1b6da"
            ],
            [
             0.4,
             "#fde0ef"
            ],
            [
             0.5,
             "#f7f7f7"
            ],
            [
             0.6,
             "#e6f5d0"
            ],
            [
             0.7,
             "#b8e186"
            ],
            [
             0.8,
             "#7fbc41"
            ],
            [
             0.9,
             "#4d9221"
            ],
            [
             1,
             "#276419"
            ]
           ],
           "sequential": [
            [
             0,
             "#0d0887"
            ],
            [
             0.1111111111111111,
             "#46039f"
            ],
            [
             0.2222222222222222,
             "#7201a8"
            ],
            [
             0.3333333333333333,
             "#9c179e"
            ],
            [
             0.4444444444444444,
             "#bd3786"
            ],
            [
             0.5555555555555556,
             "#d8576b"
            ],
            [
             0.6666666666666666,
             "#ed7953"
            ],
            [
             0.7777777777777778,
             "#fb9f3a"
            ],
            [
             0.8888888888888888,
             "#fdca26"
            ],
            [
             1,
             "#f0f921"
            ]
           ],
           "sequentialminus": [
            [
             0,
             "#0d0887"
            ],
            [
             0.1111111111111111,
             "#46039f"
            ],
            [
             0.2222222222222222,
             "#7201a8"
            ],
            [
             0.3333333333333333,
             "#9c179e"
            ],
            [
             0.4444444444444444,
             "#bd3786"
            ],
            [
             0.5555555555555556,
             "#d8576b"
            ],
            [
             0.6666666666666666,
             "#ed7953"
            ],
            [
             0.7777777777777778,
             "#fb9f3a"
            ],
            [
             0.8888888888888888,
             "#fdca26"
            ],
            [
             1,
             "#f0f921"
            ]
           ]
          },
          "colorway": [
           "#636efa",
           "#EF553B",
           "#00cc96",
           "#ab63fa",
           "#FFA15A",
           "#19d3f3",
           "#FF6692",
           "#B6E880",
           "#FF97FF",
           "#FECB52"
          ],
          "font": {
           "color": "#2a3f5f"
          },
          "geo": {
           "bgcolor": "white",
           "lakecolor": "white",
           "landcolor": "#E5ECF6",
           "showlakes": true,
           "showland": true,
           "subunitcolor": "white"
          },
          "hoverlabel": {
           "align": "left"
          },
          "hovermode": "closest",
          "mapbox": {
           "style": "light"
          },
          "paper_bgcolor": "white",
          "plot_bgcolor": "#E5ECF6",
          "polar": {
           "angularaxis": {
            "gridcolor": "white",
            "linecolor": "white",
            "ticks": ""
           },
           "bgcolor": "#E5ECF6",
           "radialaxis": {
            "gridcolor": "white",
            "linecolor": "white",
            "ticks": ""
           }
          },
          "scene": {
           "xaxis": {
            "backgroundcolor": "#E5ECF6",
            "gridcolor": "white",
            "gridwidth": 2,
            "linecolor": "white",
            "showbackground": true,
            "ticks": "",
            "zerolinecolor": "white"
           },
           "yaxis": {
            "backgroundcolor": "#E5ECF6",
            "gridcolor": "white",
            "gridwidth": 2,
            "linecolor": "white",
            "showbackground": true,
            "ticks": "",
            "zerolinecolor": "white"
           },
           "zaxis": {
            "backgroundcolor": "#E5ECF6",
            "gridcolor": "white",
            "gridwidth": 2,
            "linecolor": "white",
            "showbackground": true,
            "ticks": "",
            "zerolinecolor": "white"
           }
          },
          "shapedefaults": {
           "line": {
            "color": "#2a3f5f"
           }
          },
          "ternary": {
           "aaxis": {
            "gridcolor": "white",
            "linecolor": "white",
            "ticks": ""
           },
           "baxis": {
            "gridcolor": "white",
            "linecolor": "white",
            "ticks": ""
           },
           "bgcolor": "#E5ECF6",
           "caxis": {
            "gridcolor": "white",
            "linecolor": "white",
            "ticks": ""
           }
          },
          "title": {
           "x": 0.05
          },
          "xaxis": {
           "automargin": true,
           "gridcolor": "white",
           "linecolor": "white",
           "ticks": "",
           "title": {
            "standoff": 15
           },
           "zerolinecolor": "white",
           "zerolinewidth": 2
          },
          "yaxis": {
           "automargin": true,
           "gridcolor": "white",
           "linecolor": "white",
           "ticks": "",
           "title": {
            "standoff": 15
           },
           "zerolinecolor": "white",
           "zerolinewidth": 2
          }
         }
        },
        "title": {
         "text": "OHW Projects"
        },
        "xaxis": {
         "anchor": "y",
         "domain": [
          0,
          1
         ],
         "title": {
          "text": "x"
         }
        },
        "yaxis": {
         "anchor": "x",
         "domain": [
          0,
          1
         ],
         "title": {
          "text": "y"
         }
        }
       }
      },
      "text/html": [
       "<div>                            <div id=\"fdaf4448-82e0-43d8-932b-4e403531296d\" class=\"plotly-graph-div\" style=\"height:800px; width:100%;\"></div>            <script type=\"text/javascript\">                require([\"plotly\"], function(Plotly) {                    window.PLOTLYENV=window.PLOTLYENV || {};                                    if (document.getElementById(\"fdaf4448-82e0-43d8-932b-4e403531296d\")) {                    Plotly.newPlot(                        \"fdaf4448-82e0-43d8-932b-4e403531296d\",                        [{\"hovertemplate\":\"\\u003cb\\u003e%{hovertext}\\u003c\\u002fb\\u003e\\u003cbr\\u003e\\u003cbr\\u003ex=%{x}\\u003cbr\\u003ey=%{y}\\u003cextra\\u003e\\u003c\\u002fextra\\u003e\",\"hovertext\":[\"21-proj-model-subsampl\",\"21-proj-\",\"21-proj-coastal-radar\",\"21-proj-deep-curr\",\"21-proj-radar-q\",\"21_proj_tag_d\",\"21-proj-drone-turtl\",\"21-proj-biological-activity-driven-by-geologic-ev\",\"22-proj-front-finder\",\"22-proj-plot_this_and_\",\"22-proj-biofouled\",\"22-proj-\",\"22-proj-lagrange_\",\"22_proj_matchup_d\",\"22-proj-gcmfilter\",\"22-proj-passive-acoustics-data-query\",\"22-proj-ker\",\"22-proj_SA_ocean_d\",\"22-proj-xyz\",\"22-proj-ENSO_Pred\",\"22-proj-flow-cytometry\",\"22-proj-clusters-nutr\",\"22-proj-biodiversity-indicator\",\"22-proj-orgs-templ\",\"22-proj-Extreme_ev\",\"22-proj-arcticd\",\"22-proj-video-data-pr\",\"22-proj-oleaje-coster\",\"22_proj_mat2py\",\"23_proj_fancymoor\",\"23_proj_\",\"23_proj_SAupwell\",\"23_proj_oil\",\"23_proj_argo_ml\",\"23_proj_sea_ice_oscill\",\"23-proj-pamproj\",\"23-proj-\",\"23_proj_drone_georef\",\"23_proj_ampl\",\"yy_proj_templ\",\"24_proj_extract_cube_data_overlap_poly_\",\"24_proj_MessageMeWhenItsHot_the_MHW_Vis-Report_app_\",\"24_proj_pace_\",\"24_proj_micronekton_img_pipeline_\",\"24_proj_sdm_\",\"24_proj_upSSH_\",\"24_proj_north_atlantic_variability_\",\"24_proj_big_data_\",\"24_proj_xarray_load_by_step_\",\"24_proj_catalog_\"],\"legendgroup\":\"\",\"marker\":{\"color\":\"#636efa\",\"symbol\":\"circle\"},\"mode\":\"markers\",\"name\":\"\",\"orientation\":\"v\",\"showlegend\":false,\"x\":[51.430206298828125,68.88026428222656,-1631.5782470703125,-73.84428405761719,66.27101135253906,99.47718048095703,34.3036003112793,52.7833137512207,85.22403717041016,-81.00881958007812,51.9970817565918,1203.6070556640625,-23.853918075561523,-89.74278259277344,26.174741744995117,1.5871793031692505,35.99635696411133,-116.94024658203125,-136.34507751464844,-62.92325973510742,34.35261917114258,74.44581604003906,48.859840393066406,67.06652069091797,-23.017213821411133,108.20790100097656,80.94407653808594,57.232120513916016,69.18473052978516,-23.81401824951172,-47.76332473754883,-102.12966918945312,-105.49720764160156,79.32203674316406,-55.75514221191406,-6.279749870300293,43.187522888183594,-72.21898651123047,-106.87718200683594,-30.901662826538086,93.38677978515625,-89.81127166748047,21.219209671020508,7.616504192352295,-17.628223419189453,-18.735679626464844,-28.758014678955078,16.880891799926758,-33.5340461730957,41.80107498168945],\"xaxis\":\"x\",\"y\":[25.632543563842773,16.053707122802734,79.10701751708984,57.98976135253906,30.384931564331055,13.199843406677246,80.96377563476562,-52.95145797729492,43.3616828918457,-32.41968536376953,48.13499069213867,158.60401916503906,139.33636474609375,-40.31499099731445,85.6202621459961,-25.829240798950195,95.0589599609375,44.88675308227539,-98.49198913574219,61.93543243408203,-42.129024505615234,-70.08369445800781,151.00807189941406,-60.437477111816406,33.45246887207031,9.470510482788086,-61.074974060058594,149.1659698486328,-106.92082214355469,24.29090118408203,77.26121520996094,-37.34033966064453,38.666141510009766,33.93897247314453,82.32373046875,-30.913738250732422,-48.52412796020508,68.9346923828125,24.12110710144043,-117.11068725585938,36.3244514465332,-27.28589630126953,-33.993507385253906,-140.67507934570312,-100.1932373046875,-112.59254455566406,-93.63023376464844,-149.572021484375,-105.0492935180664,63.224388122558594],\"yaxis\":\"y\",\"type\":\"scatter\",\"textposition\":\"top center\"}],                        {\"template\":{\"data\":{\"histogram2dcontour\":[{\"type\":\"histogram2dcontour\",\"colorbar\":{\"outlinewidth\":0,\"ticks\":\"\"},\"colorscale\":[[0.0,\"#0d0887\"],[0.1111111111111111,\"#46039f\"],[0.2222222222222222,\"#7201a8\"],[0.3333333333333333,\"#9c179e\"],[0.4444444444444444,\"#bd3786\"],[0.5555555555555556,\"#d8576b\"],[0.6666666666666666,\"#ed7953\"],[0.7777777777777778,\"#fb9f3a\"],[0.8888888888888888,\"#fdca26\"],[1.0,\"#f0f921\"]]}],\"choropleth\":[{\"type\":\"choropleth\",\"colorbar\":{\"outlinewidth\":0,\"ticks\":\"\"}}],\"histogram2d\":[{\"type\":\"histogram2d\",\"colorbar\":{\"outlinewidth\":0,\"ticks\":\"\"},\"colorscale\":[[0.0,\"#0d0887\"],[0.1111111111111111,\"#46039f\"],[0.2222222222222222,\"#7201a8\"],[0.3333333333333333,\"#9c179e\"],[0.4444444444444444,\"#bd3786\"],[0.5555555555555556,\"#d8576b\"],[0.6666666666666666,\"#ed7953\"],[0.7777777777777778,\"#fb9f3a\"],[0.8888888888888888,\"#fdca26\"],[1.0,\"#f0f921\"]]}],\"heatmap\":[{\"type\":\"heatmap\",\"colorbar\":{\"outlinewidth\":0,\"ticks\":\"\"},\"colorscale\":[[0.0,\"#0d0887\"],[0.1111111111111111,\"#46039f\"],[0.2222222222222222,\"#7201a8\"],[0.3333333333333333,\"#9c179e\"],[0.4444444444444444,\"#bd3786\"],[0.5555555555555556,\"#d8576b\"],[0.6666666666666666,\"#ed7953\"],[0.7777777777777778,\"#fb9f3a\"],[0.8888888888888888,\"#fdca26\"],[1.0,\"#f0f921\"]]}],\"heatmapgl\":[{\"type\":\"heatmapgl\",\"colorbar\":{\"outlinewidth\":0,\"ticks\":\"\"},\"colorscale\":[[0.0,\"#0d0887\"],[0.1111111111111111,\"#46039f\"],[0.2222222222222222,\"#7201a8\"],[0.3333333333333333,\"#9c179e\"],[0.4444444444444444,\"#bd3786\"],[0.5555555555555556,\"#d8576b\"],[0.6666666666666666,\"#ed7953\"],[0.7777777777777778,\"#fb9f3a\"],[0.8888888888888888,\"#fdca26\"],[1.0,\"#f0f921\"]]}],\"contourcarpet\":[{\"type\":\"contourcarpet\",\"colorbar\":{\"outlinewidth\":0,\"ticks\":\"\"}}],\"contour\":[{\"type\":\"contour\",\"colorbar\":{\"outlinewidth\":0,\"ticks\":\"\"},\"colorscale\":[[0.0,\"#0d0887\"],[0.1111111111111111,\"#46039f\"],[0.2222222222222222,\"#7201a8\"],[0.3333333333333333,\"#9c179e\"],[0.4444444444444444,\"#bd3786\"],[0.5555555555555556,\"#d8576b\"],[0.6666666666666666,\"#ed7953\"],[0.7777777777777778,\"#fb9f3a\"],[0.8888888888888888,\"#fdca26\"],[1.0,\"#f0f921\"]]}],\"surface\":[{\"type\":\"surface\",\"colorbar\":{\"outlinewidth\":0,\"ticks\":\"\"},\"colorscale\":[[0.0,\"#0d0887\"],[0.1111111111111111,\"#46039f\"],[0.2222222222222222,\"#7201a8\"],[0.3333333333333333,\"#9c179e\"],[0.4444444444444444,\"#bd3786\"],[0.5555555555555556,\"#d8576b\"],[0.6666666666666666,\"#ed7953\"],[0.7777777777777778,\"#fb9f3a\"],[0.8888888888888888,\"#fdca26\"],[1.0,\"#f0f921\"]]}],\"mesh3d\":[{\"type\":\"mesh3d\",\"colorbar\":{\"outlinewidth\":0,\"ticks\":\"\"}}],\"scatter\":[{\"fillpattern\":{\"fillmode\":\"overlay\",\"size\":10,\"solidity\":0.2},\"type\":\"scatter\"}],\"parcoords\":[{\"type\":\"parcoords\",\"line\":{\"colorbar\":{\"outlinewidth\":0,\"ticks\":\"\"}}}],\"scatterpolargl\":[{\"type\":\"scatterpolargl\",\"marker\":{\"colorbar\":{\"outlinewidth\":0,\"ticks\":\"\"}}}],\"bar\":[{\"error_x\":{\"color\":\"#2a3f5f\"},\"error_y\":{\"color\":\"#2a3f5f\"},\"marker\":{\"line\":{\"color\":\"#E5ECF6\",\"width\":0.5},\"pattern\":{\"fillmode\":\"overlay\",\"size\":10,\"solidity\":0.2}},\"type\":\"bar\"}],\"scattergeo\":[{\"type\":\"scattergeo\",\"marker\":{\"colorbar\":{\"outlinewidth\":0,\"ticks\":\"\"}}}],\"scatterpolar\":[{\"type\":\"scatterpolar\",\"marker\":{\"colorbar\":{\"outlinewidth\":0,\"ticks\":\"\"}}}],\"histogram\":[{\"marker\":{\"pattern\":{\"fillmode\":\"overlay\",\"size\":10,\"solidity\":0.2}},\"type\":\"histogram\"}],\"scattergl\":[{\"type\":\"scattergl\",\"marker\":{\"colorbar\":{\"outlinewidth\":0,\"ticks\":\"\"}}}],\"scatter3d\":[{\"type\":\"scatter3d\",\"line\":{\"colorbar\":{\"outlinewidth\":0,\"ticks\":\"\"}},\"marker\":{\"colorbar\":{\"outlinewidth\":0,\"ticks\":\"\"}}}],\"scattermapbox\":[{\"type\":\"scattermapbox\",\"marker\":{\"colorbar\":{\"outlinewidth\":0,\"ticks\":\"\"}}}],\"scatterternary\":[{\"type\":\"scatterternary\",\"marker\":{\"colorbar\":{\"outlinewidth\":0,\"ticks\":\"\"}}}],\"scattercarpet\":[{\"type\":\"scattercarpet\",\"marker\":{\"colorbar\":{\"outlinewidth\":0,\"ticks\":\"\"}}}],\"carpet\":[{\"aaxis\":{\"endlinecolor\":\"#2a3f5f\",\"gridcolor\":\"white\",\"linecolor\":\"white\",\"minorgridcolor\":\"white\",\"startlinecolor\":\"#2a3f5f\"},\"baxis\":{\"endlinecolor\":\"#2a3f5f\",\"gridcolor\":\"white\",\"linecolor\":\"white\",\"minorgridcolor\":\"white\",\"startlinecolor\":\"#2a3f5f\"},\"type\":\"carpet\"}],\"table\":[{\"cells\":{\"fill\":{\"color\":\"#EBF0F8\"},\"line\":{\"color\":\"white\"}},\"header\":{\"fill\":{\"color\":\"#C8D4E3\"},\"line\":{\"color\":\"white\"}},\"type\":\"table\"}],\"barpolar\":[{\"marker\":{\"line\":{\"color\":\"#E5ECF6\",\"width\":0.5},\"pattern\":{\"fillmode\":\"overlay\",\"size\":10,\"solidity\":0.2}},\"type\":\"barpolar\"}],\"pie\":[{\"automargin\":true,\"type\":\"pie\"}]},\"layout\":{\"autotypenumbers\":\"strict\",\"colorway\":[\"#636efa\",\"#EF553B\",\"#00cc96\",\"#ab63fa\",\"#FFA15A\",\"#19d3f3\",\"#FF6692\",\"#B6E880\",\"#FF97FF\",\"#FECB52\"],\"font\":{\"color\":\"#2a3f5f\"},\"hovermode\":\"closest\",\"hoverlabel\":{\"align\":\"left\"},\"paper_bgcolor\":\"white\",\"plot_bgcolor\":\"#E5ECF6\",\"polar\":{\"bgcolor\":\"#E5ECF6\",\"angularaxis\":{\"gridcolor\":\"white\",\"linecolor\":\"white\",\"ticks\":\"\"},\"radialaxis\":{\"gridcolor\":\"white\",\"linecolor\":\"white\",\"ticks\":\"\"}},\"ternary\":{\"bgcolor\":\"#E5ECF6\",\"aaxis\":{\"gridcolor\":\"white\",\"linecolor\":\"white\",\"ticks\":\"\"},\"baxis\":{\"gridcolor\":\"white\",\"linecolor\":\"white\",\"ticks\":\"\"},\"caxis\":{\"gridcolor\":\"white\",\"linecolor\":\"white\",\"ticks\":\"\"}},\"coloraxis\":{\"colorbar\":{\"outlinewidth\":0,\"ticks\":\"\"}},\"colorscale\":{\"sequential\":[[0.0,\"#0d0887\"],[0.1111111111111111,\"#46039f\"],[0.2222222222222222,\"#7201a8\"],[0.3333333333333333,\"#9c179e\"],[0.4444444444444444,\"#bd3786\"],[0.5555555555555556,\"#d8576b\"],[0.6666666666666666,\"#ed7953\"],[0.7777777777777778,\"#fb9f3a\"],[0.8888888888888888,\"#fdca26\"],[1.0,\"#f0f921\"]],\"sequentialminus\":[[0.0,\"#0d0887\"],[0.1111111111111111,\"#46039f\"],[0.2222222222222222,\"#7201a8\"],[0.3333333333333333,\"#9c179e\"],[0.4444444444444444,\"#bd3786\"],[0.5555555555555556,\"#d8576b\"],[0.6666666666666666,\"#ed7953\"],[0.7777777777777778,\"#fb9f3a\"],[0.8888888888888888,\"#fdca26\"],[1.0,\"#f0f921\"]],\"diverging\":[[0,\"#8e0152\"],[0.1,\"#c51b7d\"],[0.2,\"#de77ae\"],[0.3,\"#f1b6da\"],[0.4,\"#fde0ef\"],[0.5,\"#f7f7f7\"],[0.6,\"#e6f5d0\"],[0.7,\"#b8e186\"],[0.8,\"#7fbc41\"],[0.9,\"#4d9221\"],[1,\"#276419\"]]},\"xaxis\":{\"gridcolor\":\"white\",\"linecolor\":\"white\",\"ticks\":\"\",\"title\":{\"standoff\":15},\"zerolinecolor\":\"white\",\"automargin\":true,\"zerolinewidth\":2},\"yaxis\":{\"gridcolor\":\"white\",\"linecolor\":\"white\",\"ticks\":\"\",\"title\":{\"standoff\":15},\"zerolinecolor\":\"white\",\"automargin\":true,\"zerolinewidth\":2},\"scene\":{\"xaxis\":{\"backgroundcolor\":\"#E5ECF6\",\"gridcolor\":\"white\",\"linecolor\":\"white\",\"showbackground\":true,\"ticks\":\"\",\"zerolinecolor\":\"white\",\"gridwidth\":2},\"yaxis\":{\"backgroundcolor\":\"#E5ECF6\",\"gridcolor\":\"white\",\"linecolor\":\"white\",\"showbackground\":true,\"ticks\":\"\",\"zerolinecolor\":\"white\",\"gridwidth\":2},\"zaxis\":{\"backgroundcolor\":\"#E5ECF6\",\"gridcolor\":\"white\",\"linecolor\":\"white\",\"showbackground\":true,\"ticks\":\"\",\"zerolinecolor\":\"white\",\"gridwidth\":2}},\"shapedefaults\":{\"line\":{\"color\":\"#2a3f5f\"}},\"annotationdefaults\":{\"arrowcolor\":\"#2a3f5f\",\"arrowhead\":0,\"arrowwidth\":1},\"geo\":{\"bgcolor\":\"white\",\"landcolor\":\"#E5ECF6\",\"subunitcolor\":\"white\",\"showland\":true,\"showlakes\":true,\"lakecolor\":\"white\"},\"title\":{\"x\":0.05},\"mapbox\":{\"style\":\"light\"}}},\"xaxis\":{\"anchor\":\"y\",\"domain\":[0.0,1.0],\"title\":{\"text\":\"x\"}},\"yaxis\":{\"anchor\":\"x\",\"domain\":[0.0,1.0],\"title\":{\"text\":\"y\"}},\"legend\":{\"tracegroupgap\":0},\"margin\":{\"t\":60},\"title\":{\"text\":\"OHW Projects\"},\"height\":800},                        {\"responsive\": true}                    ).then(function(){\n",
       "                            \n",
       "var gd = document.getElementById('fdaf4448-82e0-43d8-932b-4e403531296d');\n",
       "var x = new MutationObserver(function (mutations, observer) {{\n",
       "        var display = window.getComputedStyle(gd).display;\n",
       "        if (!display || display === 'none') {{\n",
       "            console.log([gd, 'removed!']);\n",
       "            Plotly.purge(gd);\n",
       "            observer.disconnect();\n",
       "        }}\n",
       "}});\n",
       "\n",
       "// Listen for the removal of the full notebook cells\n",
       "var notebookContainer = gd.closest('#notebook-container');\n",
       "if (notebookContainer) {{\n",
       "    x.observe(notebookContainer, {childList: true});\n",
       "}}\n",
       "\n",
       "// Listen for the clearing of the current output cell\n",
       "var outputEl = gd.closest('.output');\n",
       "if (outputEl) {{\n",
       "    x.observe(outputEl, {childList: true});\n",
       "}}\n",
       "\n",
       "                        })                };                });            </script>        </div>"
      ]
     },
     "metadata": {},
     "output_type": "display_data"
    }
   ],
   "source": [
    "import plotly.express as px\n",
    "\n",
    "fig = px.scatter(df_2D, x=\"x\", y=\"y\",  hover_name=\"proj_name\")\n",
    "\n",
    "fig.update_traces(textposition='top center')\n",
    "\n",
    "fig.update_layout(\n",
    "    height=800,\n",
    "    title_text='OHW Projects'\n",
    ")\n",
    "\n",
    "fig.show()"
   ]
  },
  {
   "cell_type": "markdown",
   "id": "2519e543",
   "metadata": {},
   "source": [
    "Q: Why is `21-proj-coastal-radar` an outlier?\n",
    "\n",
    "A: They did not fill their README!!!\n",
    "\n",
    "https://github.com/oceanhackweek/ohw21-proj-coastal-radar"
   ]
  },
  {
   "cell_type": "markdown",
   "id": "0eb96bec",
   "metadata": {},
   "source": [
    "ohw21-proj-coastal-radar\n",
    "\n",
    "Participants\n",
    "\n",
    "Panagiotis Mitsopoulos\n",
    "\n",
    "Filipe Pereira\n",
    "\n",
    "Anrijs Abele\n",
    "\n",
    "Teresa Updyke\n",
    "\n",
    "Mauricio Rocha\n",
    "\n",
    "presentation.ipynb is the main notebook, with a description of the project and some preliminary results."
   ]
  },
  {
   "cell_type": "code",
   "execution_count": 97,
   "id": "5d8d2687-bf8a-4893-b646-e233a92883ea",
   "metadata": {},
   "outputs": [],
   "source": [
    "# pip install -U kaleido"
   ]
  },
  {
   "cell_type": "code",
   "execution_count": null,
   "id": "dff60237-9185-445d-90e3-0eae0f052ca6",
   "metadata": {},
   "outputs": [],
   "source": []
  },
  {
   "cell_type": "code",
   "execution_count": null,
   "id": "4eaf8099-9c59-4949-845d-5eee7e4fca06",
   "metadata": {},
   "outputs": [],
   "source": []
  }
 ],
 "metadata": {
  "kernelspec": {
   "display_name": "Python 3 (ipykernel)",
   "language": "python",
   "name": "python3"
  },
  "language_info": {
   "codemirror_mode": {
    "name": "ipython",
    "version": 3
   },
   "file_extension": ".py",
   "mimetype": "text/x-python",
   "name": "python",
   "nbconvert_exporter": "python",
   "pygments_lexer": "ipython3",
   "version": "3.12.4"
  }
 },
 "nbformat": 4,
 "nbformat_minor": 5
}
